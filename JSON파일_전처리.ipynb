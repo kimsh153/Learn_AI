{
  "nbformat": 4,
  "nbformat_minor": 0,
  "metadata": {
    "colab": {
      "name": "JSON파일 전처리.ipynb",
      "provenance": [],
      "collapsed_sections": [],
      "authorship_tag": "ABX9TyORL6LZE6rOaPkQaAaXzEPY",
      "include_colab_link": true
    },
    "kernelspec": {
      "name": "python3",
      "display_name": "Python 3"
    },
    "language_info": {
      "name": "python"
    }
  },
  "cells": [
    {
      "cell_type": "markdown",
      "metadata": {
        "id": "view-in-github",
        "colab_type": "text"
      },
      "source": [
        "<a href=\"https://colab.research.google.com/github/kimsh153/Learn_AI/blob/master/JSON%ED%8C%8C%EC%9D%BC_%EC%A0%84%EC%B2%98%EB%A6%AC.ipynb\" target=\"_parent\"><img src=\"https://colab.research.google.com/assets/colab-badge.svg\" alt=\"Open In Colab\"/></a>"
      ]
    },
    {
      "cell_type": "markdown",
      "metadata": {
        "id": "rvss6siFprV6"
      },
      "source": [
        "# JSON 파일 전처리"
      ]
    },
    {
      "cell_type": "code",
      "metadata": {
        "colab": {
          "base_uri": "https://localhost:8080/"
        },
        "id": "rToSzDdJMMB6",
        "outputId": "9418335a-d635-46d9-df42-75ac1afd47ef"
      },
      "source": [
        "# json_normalize() 사용\n",
        "import pandas as pd\n",
        "import json\n",
        "from pandas import json_normalize\n",
        "\n",
        "data = '''\n",
        "{\n",
        "\"Results\":\n",
        "         [\n",
        "         { \"id\": \"1\", \"Name\": \"Jay\" },\n",
        "         { \"id\": \"2\", \"Name\": \"Mark\" },\n",
        "         { \"id\": \"3\", \"Name\": \"Jack\" }\n",
        "         ],\n",
        "\"status\": [\"ok\"]\n",
        "}\n",
        "    '''\n",
        "\n",
        "info = json.loads(data)\n",
        "\n",
        "df = json_normalize(info['Results']) #Results contain the required data\n",
        "print(df)"
      ],
      "execution_count": 5,
      "outputs": [
        {
          "output_type": "stream",
          "name": "stdout",
          "text": [
            "  id  Name\n",
            "0  1   Jay\n",
            "1  2  Mark\n",
            "2  3  Jack\n"
          ]
        }
      ]
    },
    {
      "cell_type": "code",
      "metadata": {
        "id": "SvnJ_WG5t_EX"
      },
      "source": [
        "# read_json() 사용\n",
        "import pandas as pd\n",
        "\n",
        "data = '''\n",
        "          {\n",
        "              \"0\":{\n",
        "                  \"Name\": \"Jay\",\n",
        "                  \"Age\": \"17\"\n",
        "              },\n",
        "              \"1\":{\n",
        "                  \"Name\": \"Mark\",\n",
        "                  \"Age\": \"15\"\n",
        "              },\n",
        "              \"2\":{\n",
        "                  \"Name\": \"Jack\",\n",
        "                  \"Age\":\"16\"\n",
        "              }\n",
        "          }\n",
        "    '''\n",
        "\n",
        "df = pd.read_json(data, orient ='index')\n",
        "print(df)"
      ],
      "execution_count": null,
      "outputs": []
    },
    {
      "cell_type": "code",
      "metadata": {
        "id": "1co5Vhpot2QR"
      },
      "source": [
        "출처 : https://www.delftstack.com/ko/howto/python-pandas/json-to-pandas-dataframe/"
      ],
      "execution_count": null,
      "outputs": []
    }
  ]
}