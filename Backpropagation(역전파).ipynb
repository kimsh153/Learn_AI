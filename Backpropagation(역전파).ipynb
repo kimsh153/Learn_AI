{
  "nbformat": 4,
  "nbformat_minor": 0,
  "metadata": {
    "colab": {
      "name": "Backpropagation(역전파).ipynb",
      "provenance": [],
      "collapsed_sections": [],
      "authorship_tag": "ABX9TyOXp15qz33XHpdJgnKDPUXs",
      "include_colab_link": true
    },
    "kernelspec": {
      "name": "python3",
      "display_name": "Python 3"
    },
    "language_info": {
      "name": "python"
    }
  },
  "cells": [
    {
      "cell_type": "markdown",
      "metadata": {
        "id": "view-in-github",
        "colab_type": "text"
      },
      "source": [
        "<a href=\"https://colab.research.google.com/github/kimsh153/Learn_AI/blob/master/Backpropagation(%EC%97%AD%EC%A0%84%ED%8C%8C).ipynb\" target=\"_parent\"><img src=\"https://colab.research.google.com/assets/colab-badge.svg\" alt=\"Open In Colab\"/></a>"
      ]
    },
    {
      "cell_type": "markdown",
      "metadata": {
        "id": "yRwxYYrLi5Qp"
      },
      "source": [
        "# Backpropagation (역전파)"
      ]
    },
    {
      "cell_type": "markdown",
      "metadata": {
        "id": "Sz_UmlspgPbs"
      },
      "source": [
        "## 역전파의 기원"
      ]
    },
    {
      "cell_type": "markdown",
      "metadata": {
        "id": "ekI0QPH-gnTF"
      },
      "source": [
        "#### 역전파 알고리즘은 1970년대 개발이 되었지만 <br>1986년에 Rumelhart와 Hinton의 논문을 통해 최적의 신경망 변수들을 <br>찾아내는데 적합함이 증명이 되면서 비로소 빛을 보게 되었습니다."
      ]
    },
    {
      "cell_type": "markdown",
      "metadata": {
        "id": "-Rw90s0KjUYz"
      },
      "source": [
        "#### 역전파를 통해 역방향으로 에러를 전파(backward propagation of error) 시키면서 최적의 학습 결과를 찾아가는 것이 <br>가능해졌습니다.\n"
      ]
    },
    {
      "cell_type": "markdown",
      "metadata": {
        "id": "2Gen3akpjYOr"
      },
      "source": [
        "## 역전파 알고리즘을 이해하기 전에 알아야 할 사전 지식"
      ]
    },
    {
      "cell_type": "markdown",
      "metadata": {
        "id": "DO2hvkoBkH_o"
      },
      "source": [
        "### Cost Function (Loss Function)"
      ]
    },
    {
      "cell_type": "markdown",
      "metadata": {
        "id": "H7Ntunk5kP0b"
      },
      "source": [
        "#### Cost Function은 사진과 같이 정의됩니다\n",
        "![image.png](data:image/png;base64,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)\n",
        "#### 이제 n은 훈련에 사용하는 입력의 수를 나타내고 y(x)는 입력 x를 가했을 때의 기대 출력을 나타내며, a는 입력 x를 신경망에 <br>넣었을 때의 실제 출력입니다\n",
        "#### 우리는 이 식으로부터 cost function은 신경망에 훈련 데이터 x를 가하고 실제 출력과 <br> 기대 출력간의 차에 대한 MSE(Mean Square Error)를 구하는 것임을 알 수 있습니다.\n",
        "#### y(x)와 a의 차이가 작아질 수록 학습이 잘 되고 있는 것이고 훈련 데이터를 이용하여 가중치(w)와 바이어스(b)를 변화시키는 <br>과정을 반복적으로 수행하며 cost function이 최소값이 되도록 하는 것이 신경망 학습의 목표입니다."
      ]
    },
    {
      "cell_type": "markdown",
      "metadata": {
        "id": "uwKTgYx8cImS"
      },
      "source": [
        "#### 기대출력"
      ]
    },
    {
      "cell_type": "markdown",
      "metadata": {
        "id": "wY_EmJ_scFwT"
      },
      "source": [
        "##### *기대출력: 음성 인식 작업에서는 사람이 사운드 파일을 듣고 옮긴 글입니다.<br>  이미지 작업에서 기대하는 출력은 ‘강아지’, ‘고양이’ 등과 같은 태그입니다."
      ]
    },
    {
      "cell_type": "markdown",
      "metadata": {
        "id": "6__DuSbhb7G7"
      },
      "source": [
        "#### MSE"
      ]
    },
    {
      "cell_type": "markdown",
      "metadata": {
        "id": "qoIDPNbib5Yz"
      },
      "source": [
        "##### *MSE : 평균 제곱 오차입니다 평균 제곱 오차는 오차의 제곱에 대한 평균입니다. 평균 제곱 오차가 적을 수록 추축한 값의 정확성이 높습니다."
      ]
    },
    {
      "cell_type": "markdown",
      "metadata": {
        "id": "ZXg3Z1fTcR2a"
      },
      "source": [
        "#### 가중치"
      ]
    },
    {
      "cell_type": "markdown",
      "metadata": {
        "id": "3GOUxkt-GEdk"
      },
      "source": [
        "##### 가중치:입력신호가 결과 출력에 주는 영향도를 조절하는 매개변수"
      ]
    },
    {
      "cell_type": "markdown",
      "metadata": {
        "id": "ZifsBz6qIWxt"
      },
      "source": [
        "#### 바이어스"
      ]
    },
    {
      "cell_type": "markdown",
      "metadata": {
        "id": "bwGDRtx4IZW1"
      },
      "source": [
        "##### 바이어스: 편향(bias)은 뉴런이 얼마나 쉽게 활성화(1로 출력)되느냐를 조정하는 매개변수"
      ]
    },
    {
      "cell_type": "markdown",
      "metadata": {
        "id": "dQnKU01wbd8U"
      },
      "source": [
        "### Gradinet-descent"
      ]
    },
    {
      "cell_type": "markdown",
      "metadata": {
        "id": "mTeopMQRObDZ"
      },
      "source": [
        "#### cost funcction이 정의가 된다면 가중치(w)와 바이어스(b)의 값들을 적절히 변화하여 최적의 결과를 얻어야합니다. <br> 그럴때 필요한것이 gradient-descent 방법입니다. Gradient-dencent는 현재 위치에서 기울기가 가장 큰 방향으로 내려가면서 <br> 최소값을 찾는 방법입니다."
      ]
    },
    {
      "cell_type": "markdown",
      "metadata": {
        "id": "wrqHbgvyjYqo"
      },
      "source": [
        "출처 : https://blog.naver.com/laonple/220507299181<br>\n",
        "Cost Function 출처 : https://brunch.co.kr/@linecard/445<br>\n",
        "기대출력출처:https://tensorflow.blog/%EC%BC%80%EB%9D%BC%EC%8A%A4-%EB%94%A5%EB%9F%AC%EB%8B%9D/1-%EB%94%A5%EB%9F%AC%EB%8B%9D%EC%9D%B4%EB%9E%80-%EB%AC%B4%EC%97%87%EC%9D%B8%EA%B0%80/<br>\n",
        "가중치,편향출처:https://sacko.tistory.com/10"
      ]
    }
  ]
}