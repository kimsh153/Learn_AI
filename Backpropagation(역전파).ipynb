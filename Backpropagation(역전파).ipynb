{
  "nbformat": 4,
  "nbformat_minor": 0,
  "metadata": {
    "colab": {
      "name": "Backpropagation(역전파).ipynb",
      "provenance": [],
      "collapsed_sections": [],
      "authorship_tag": "ABX9TyMYJiPDKCha+Mr6FdJZe6U9",
      "include_colab_link": true
    },
    "kernelspec": {
      "name": "python3",
      "display_name": "Python 3"
    },
    "language_info": {
      "name": "python"
    }
  },
  "cells": [
    {
      "cell_type": "markdown",
      "metadata": {
        "id": "view-in-github",
        "colab_type": "text"
      },
      "source": [
        "<a href=\"https://colab.research.google.com/github/kimsh153/Learn_AI/blob/master/Backpropagation(%EC%97%AD%EC%A0%84%ED%8C%8C).ipynb\" target=\"_parent\"><img src=\"https://colab.research.google.com/assets/colab-badge.svg\" alt=\"Open In Colab\"/></a>"
      ]
    },
    {
      "cell_type": "markdown",
      "metadata": {
        "id": "yRwxYYrLi5Qp"
      },
      "source": [
        "# Backpropagation (역전파)"
      ]
    },
    {
      "cell_type": "markdown",
      "metadata": {
        "id": "-Rw90s0KjUYz"
      },
      "source": [
        "#### 역전파를 통해 역방향으로 에러를 전파(backward propagation of error) 시키면서 최적의 학습 결과를 찾아가는 것이 가능해졌습니다."
      ]
    },
    {
      "cell_type": "markdown",
      "metadata": {
        "id": "2Gen3akpjYOr"
      },
      "source": [
        ""
      ]
    },
    {
      "cell_type": "markdown",
      "metadata": {
        "id": "wrqHbgvyjYqo"
      },
      "source": [
        ""
      ]
    }
  ]
}